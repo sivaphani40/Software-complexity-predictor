{
 "cells": [
  {
   "cell_type": "code",
   "execution_count": 2,
   "id": "ddb02642",
   "metadata": {},
   "outputs": [],
   "source": [
    "# extracting all functional requirements into df dataframe\n",
    "# extracting USR1 doc into df_req dataframe\n",
    "\n",
    "import pandas as pd\n",
    "import docx\n",
    "import pandasql as ps\n",
    "import os\n",
    "from pathlib import Path\n",
    "from fuzzywuzzy import fuzz\n",
    "from fuzzywuzzy import process\n",
    "from pandasql import sqldf\n",
    "\n",
    " \n",
    "fileName= Path('E:/MS/Thesis/Ilias/internal/URStest.docx').stem\n",
    "\n",
    "DatabaseDF = pd.read_excel('E:/MS/Thesis/data set/Database.xlsx')\n",
    "\n",
    "#df.head(5)\n",
    "\n",
    "\n",
    "Text = docx.Document('E:/MS/Thesis/Ilias/internal/URStest.docx')\n",
    "#data={}\n",
    "\n",
    "for table in Text.tables:\n",
    "    for row in table.rows:\n",
    "        for cell in row.cells:\n",
    "            #print (cell.text)\n",
    "            #print(\"-------------------------\")\n",
    "            \n",
    "            if \"LFA\" in cell.text:\n",
    "                #print (cell.text)\n",
    "                data = [[cell.text for cell in row.cells] for row in table.rows]\n",
    "            #data = cell.text\n",
    "#df = pd.DataFrame(data)  \n",
    "#data = [[cell.text for cell in row.cells] for row in table.rows]\n",
    "            \n",
    "#df_req = pd.DataFrame(cell.text)\n",
    "df_req = pd.DataFrame(data) \n",
    "headers =  [\"Sequence\", \"URStest\"]\n",
    "df_req.columns = headers\n",
    "\n",
    "#writing USR1 requirements dataframe to excel\n",
    "\n",
    "with pd.ExcelWriter(r'E:\\MS\\Thesis\\data set\\extracted req.xlsx') as writer:\n",
    "    df_req.to_excel(writer,sheet_name='functional req', index=False)\n",
    " \n",
    "      \n",
    "matched_req = []\n",
    "soft_com = []\n",
    "\n",
    "for ind in df_req.index:\n",
    "    USR = df_req['URStest'][ind]\n",
    "#     print(\"USR: \", USR)\n",
    "#     print(\"-----------------------------\")\n",
    "    for ind1 in DatabaseDF.index:\n",
    "        Specification_database = DatabaseDF['database_requirements'][ind1]\n",
    "#         print(\"database:\",Specification_database )\n",
    "#         print(\"-----------------------------\")\n",
    "        matched_token=fuzz.token_sort_ratio(USR,Specification_database)\n",
    "        if matched_token> 80:\n",
    "            matched_req.append({\"user_id\": ind,\"user\": USR,\"requirement\": Specification_database,\"accuracy\": matched_token, \"Keyword\": DatabaseDF[\"Keyword\"][ind1],\n",
    "                                \"sft_com\": DatabaseDF[\"Software complexity\"][ind1]})\n",
    "            #print(matched_req)    \n",
    "# masterDf = pd.DataFrame(matched_req)\n",
    "# masterDf.head()\n",
    "\n",
    "fuzzy = pd.DataFrame(matched_req)\n",
    "fuzzy.head()\n",
    "\n",
    "\n",
    "with pd.ExcelWriter(r'E:\\MS\\Thesis\\data set\\fuzzy.xlsx') as writer:\n",
    "    fuzzy.to_excel(writer,sheet_name='fuzzy', index=False)\n",
    "    \n",
    "output = sqldf(\"select Keyword, round(avg(sft_com),3) as software_complexity from fuzzy group by keyword\")\n",
    "\n",
    "output1 = output.T\n",
    "\n",
    "# with pd.ExcelWriter(r'F:\\MS\\Thesis\\data set\\Dataset.xlsx') as writer:\n",
    "#     output1.to_excel(writer,sheet_name='dataset' , index=False)\n",
    "    \n"
   ]
  },
  {
   "cell_type": "code",
   "execution_count": 3,
   "id": "87bbc48c",
   "metadata": {},
   "outputs": [
    {
     "name": "stdout",
     "output_type": "stream",
     "text": [
      "                           0          1           2     3              4\n",
      "Keyword              Battery  Collision  Headlights  Horn  Remotecontrol\n",
      "software_complexity     66.0      102.0     102.667  58.0          131.0\n"
     ]
    }
   ],
   "source": [
    "print(output1)"
   ]
  },
  {
   "cell_type": "code",
   "execution_count": 3,
   "id": "1159fd8c",
   "metadata": {},
   "outputs": [
    {
     "name": "stdout",
     "output_type": "stream",
     "text": [
      "Collecting fuzzywuzzy[speedup]\n",
      "  Downloading fuzzywuzzy-0.18.0-py2.py3-none-any.whl (18 kB)\n",
      "Collecting python-levenshtein>=0.12\n",
      "  Downloading python_Levenshtein-0.20.9-py3-none-any.whl (9.4 kB)\n",
      "Collecting Levenshtein==0.20.9\n",
      "  Downloading Levenshtein-0.20.9-cp39-cp39-win_amd64.whl (101 kB)\n",
      "     ------------------------------------ 101.3/101.3 kB 264.8 kB/s eta 0:00:00\n",
      "Collecting rapidfuzz<3.0.0,>=2.3.0\n",
      "  Downloading rapidfuzz-2.13.7-cp39-cp39-win_amd64.whl (1.0 MB)\n",
      "     ---------------------------------------- 1.0/1.0 MB 1.2 MB/s eta 0:00:00\n",
      "Installing collected packages: fuzzywuzzy, rapidfuzz, Levenshtein, python-levenshtein\n",
      "Successfully installed Levenshtein-0.20.9 fuzzywuzzy-0.18.0 python-levenshtein-0.20.9 rapidfuzz-2.13.7\n",
      "Note: you may need to restart the kernel to use updated packages.\n"
     ]
    }
   ],
   "source": [
    "pip install fuzzywuzzy[speedup]"
   ]
  },
  {
   "cell_type": "code",
   "execution_count": null,
   "id": "2b171c38",
   "metadata": {},
   "outputs": [],
   "source": []
  }
 ],
 "metadata": {
  "kernelspec": {
   "display_name": "Python 3 (ipykernel)",
   "language": "python",
   "name": "python3"
  },
  "language_info": {
   "codemirror_mode": {
    "name": "ipython",
    "version": 3
   },
   "file_extension": ".py",
   "mimetype": "text/x-python",
   "name": "python",
   "nbconvert_exporter": "python",
   "pygments_lexer": "ipython3",
   "version": "3.9.13"
  }
 },
 "nbformat": 4,
 "nbformat_minor": 5
}
