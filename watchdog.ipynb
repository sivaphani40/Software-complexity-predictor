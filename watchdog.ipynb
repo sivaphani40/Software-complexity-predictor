{
 "cells": [
  {
   "cell_type": "markdown",
   "id": "c7bdc691",
   "metadata": {},
   "source": [
    "# Monitor block of MAPE-K"
   ]
  },
  {
   "cell_type": "code",
   "execution_count": 1,
   "id": "be66aafd",
   "metadata": {},
   "outputs": [
    {
     "name": "stdout",
     "output_type": "stream",
     "text": [
      "watchdog starts\n",
      "watchdog after start\n",
      "timer running\n",
      "timer running\n",
      "timer running\n"
     ]
    }
   ],
   "source": [
    "import sys\n",
    "import time\n",
    "import logging\n",
    "from watchdog.observers import Observer\n",
    "from watchdog.events import FileSystemEventHandler\n",
    "import os\n",
    "\n",
    "class Handler(FileSystemEventHandler):\n",
    "    def on_modified(self,event):\n",
    "        for filename in os.listdir(folder_to_check):\n",
    "            src=folder_to_check+'/'+filename\n",
    "            new_dest=folder_destination+'/'+filename\n",
    "            os.rename(src,new_dest)\n",
    "            f=open (\"filename\", \"r\")\n",
    "            \n",
    "            \n",
    "folder_to_check='E:/MS/Thesis/new requirements'\n",
    "folder_destination='E:/MS/Thesis/testing'\n",
    "monitor=Observer()\n",
    "event_handler=Handler()\n",
    "monitor.schedule(event_handler,folder_to_check,recursive=True)\n",
    "print(\"watchdog starts\")\n",
    "monitor.start()\n",
    "print(\"watchdog after start\")\n",
    "\n",
    "\n",
    "try:\n",
    "    while True:\n",
    "        time.sleep(10)\n",
    "        print(\"timer running\")\n",
    "except KeyboardInterrupt:\n",
    "    monitor.stop()\n",
    "    \n",
    "monitor.join()\n",
    "    \n",
    "    \n",
    "                \n",
    "        "
   ]
  },
  {
   "cell_type": "code",
   "execution_count": 4,
   "id": "fa54f50b",
   "metadata": {},
   "outputs": [
    {
     "ename": "SyntaxError",
     "evalue": "invalid syntax (3540608574.py, line 3)",
     "output_type": "error",
     "traceback": [
      "\u001b[1;36m  File \u001b[1;32m\"C:\\Users\\LENOVO\\AppData\\Local\\Temp\\ipykernel_1936\\3540608574.py\"\u001b[1;36m, line \u001b[1;32m3\u001b[0m\n\u001b[1;33m    pip install python-docx\u001b[0m\n\u001b[1;37m        ^\u001b[0m\n\u001b[1;31mSyntaxError\u001b[0m\u001b[1;31m:\u001b[0m invalid syntax\n"
     ]
    }
   ],
   "source": [
    "#pip install docx\n",
    "\n",
    "pip install python-docx \n",
    "\n",
    "#import docx"
   ]
  },
  {
   "cell_type": "markdown",
   "id": "678e1165",
   "metadata": {},
   "source": [
    "# Analyze block of MAPE-K"
   ]
  },
  {
   "cell_type": "code",
   "execution_count": 20,
   "id": "456fbcc3",
   "metadata": {},
   "outputs": [
    {
     "name": "stdout",
     "output_type": "stream",
     "text": [
      "--------------------------------\n",
      "program is here\n",
      "------------------------end--------------------\n"
     ]
    }
   ],
   "source": [
    "# import docx\n",
    "\n",
    "# def ReadingTextDocuments(fileName):\n",
    "#     doc= docx.Document(fileName)\n",
    "    \n",
    "#     completedText = []\n",
    "    \n",
    "#     for paragraph in doc.paragraphs:\n",
    "#         completedText.append(paragraph.text)\n",
    "        \n",
    "#     return '\\n' .join(completedText)\n",
    "\n",
    "# print(ReadingTextDocuments('File.docx')\n",
    "\n",
    "fullText = []\n",
    "\n",
    "import docx\n",
    "\n",
    "def readtxt(filename):\n",
    "    doc = docx.Document(filename)\n",
    "    for para in doc.paragraphs:\n",
    "        fullText.append(para.text)   \n",
    "    return '\\n'.join(fullText)\n",
    "print(\"--------------------------------\")\n",
    "\n",
    "for line in fullText:\n",
    "    if \"goal setting\" and \"demarcation criteria\" and \"mission\" and \"Nonfunctional requirements\" and \"Functional requirements\" and \"User interface requirements\" and \"quality target setting\" in line:\n",
    "        print(\"file is ok\")\n",
    "        print(\"-----if ------\")\n",
    "    else:\n",
    "        print(\"not k\")\n",
    "        \n",
    "print(\"program is here\")\n",
    "readtxt('E:/MS/Thesis/testing/URStest.docx')\n",
    "\n",
    "print(\"------------------------end--------------------\")\n",
    "\n",
    "#readtxt('E:/MS/Thesis/testing/URStest.docx')"
   ]
  },
  {
   "cell_type": "code",
   "execution_count": null,
   "id": "662282b7",
   "metadata": {},
   "outputs": [],
   "source": []
  },
  {
   "cell_type": "code",
   "execution_count": 21,
   "id": "17ed780e",
   "metadata": {},
   "outputs": [
    {
     "name": "stdout",
     "output_type": "stream",
     "text": [
      "['', '\\nDocument version management', '', '', 'Table of Contents', '0 \\ttable of contents \\t2', '1 \\ttarget setting \\t4', '1.1 \\tMust criteria \\t4', '1.2 \\tDesire criteria \\t4', '1.3 \\tDelimitation criteria \\t4', '2 \\tinsert \\t4', '2.1 Areas of \\tapplication \\t4', '2.2 \\tTarget groups \\t4', '2.3 \\tOperating conditions \\t5', '3 \\tenvironment \\t5', '3.1 \\tSoftware \\t5', '3.2 \\tHardware \\t5', '3.3 \\tSystem interfaces \\t5', '4 \\tFunctional requirements \\t5', '5 \\tNon-functional requirements \\t6', '6 \\tRequirements for the user interface \\t6', '7 \\tquality target setting \\t7', '8 \\tGlobal test scenarios/cases \\t7', '9 \\tdevelopment environment \\t8', '9.1 \\tSoftware \\t8', '9.1.1 \\tProgramming languages \\t8', '9.1.2 \\tPrograms \\t8', '9.1.3 \\tOperating system \\t8', '9.2 \\tHardware \\t8', '9.3 \\tOrgware \\t8', '9.3.1 \\tDocument editing \\t8', '9.3.2 \\tCommunication \\t8', '9.4 \\tDevelopment interfaces \\t8', '10 \\tImplementation \\t9', '11 \\tsupplements \\t9', '', '\\ngoal setting', 'must criteria', 'The aim of the project is a remote-controlled model car consisting of a motor, steering servo, horn, LEDs for the headlights, rear lights, reverse lights, brake lights and indicators. These are controlled by a \"robbe Futaba F-14\" remote control. The system also includes a distance sensor that can measure the distance between the car and an object. Furthermore, a supplementary circuit board must be designed with three LEDs for displaying the battery status. This board is controlled by a microcontroller.', '', 'In addition to the hardware components mentioned above, additional software must also be designed. This is divided into engine control, collision monitoring and turn signal control, which run automatically without external intervention being necessary. The horn, on the other hand, is controlled by the remote control. A distinction is made between two modes for light control. In manual mode, the user can switch the light on and off using the remote control. In automatic mode, the brightness sensor recognizes the light conditions and the microcontroller switches the light on.', '', 'Incidentally, the real model car is to be realized in a simulation environment (“digital twin”). A Paspberry Pi serves as a communication bridge between the simulation environment and the real system.', 'desired criteria', 'Optionally, the car can warn the user with the horn when the battery level is low, even if the user is not directly at the car, and activate the hazard warning lights if an obstacle is detected.', '', 'demarcation criteria', 'It is not part of the project to develop software with which the system can run independently. Collisions are to be avoided, but obstacles are not to be avoided autonomously.', '', 'mission', 'areas of application', 'The system will be put into operation both as a real model car in a test environment provided by the IAS and digitally in the simulation environment mentioned.', 'Target groups', 'The system is worked out, presented and ultimately operated by the developers with sufficient programming knowledge.', 'operating conditions- design ', 'In order for the microcontroller to run as reliably as possible, it should not be operated at over 25°C. In this case, the error rate over 100 years is less than 1 PPM. When charged, the battery should be operated between 10°C and 45°C. The remote control has a range of 60 meters when the transmitting antenna is pushed in. This should not be exceeded. The brightness sensors work between -25°C and 80°C, although the temperature coefficient must be taken into account. The infrared sensor may only be operated between -10°C and 60°C. Overall, an operating temperature of 10°C to 25°C is recommended for the entire system. The simulation must run on a PC that is compatible with the programs SimulIDE and KiCad EDA.', '', 'vicinity', 'software', 'The software is used in C with both Windows 8/8.1 and Lubuntu20.04 as development platforms. The drivers of most actuators and sensors are already implemented. This includes engine control, collision monitoring, indicator control, horn control and light control. The simulator and libraries for the microcontroller are also already available.', 'hardware', 'A microcontroller, a distance sensor, a horn, the motor, a brightness sensor, a steering servo, LEDs, receiver and transmitter with remote control and the real model car are already available. The model car also has a lighting system with headlights, rear lights, reverse lights, brake lights and indicators.', 'system interfaces', 'There is an auto/remote control interface, which is implemented via a radio channel. The system also has a USB interface. In addition, there is synchronization between the real model car and the simulation environment, which is bridged by a Rasperry Pi .', '', 'Functional requirements', '', 'Nonfunctional requirements', '', 'User interface requirements', '', 'quality target setting', 'Global test scenarios/cases', '', 'development environment', 'software', 'programming languages', 'C/C++ programming language - Arduino IDE (for programming microcontroller)', 'Python - Terminal (For the connection between Rasperry Pi and the microcontroller)', 'C/C++ - Visual Studio', 'programs', 'SimulIDE', 'LTSpice', 'KiCad', 'Slide Diagram Editor', 'GanttProject', 'operating systems', 'macOS', 'Linux', 'Windows', 'hardware', 'personal laptop', 'Raspberry Pi', 'Arduino microcontroller', 'orgware', 'document editing', 'Microsoft Office Word', 'Microsoft Office PowerPoint', 'PDF converters', 'GanttProject', 'LibreOffice (Linux)', 'Pages (macOS)', 'communication', 'whatsapp (web)', 'Google Meet', 'discord', 'carrier pigeons', 'development interfaces', 'USB data cable', 'execution', 'The work will be carried out according to the IAS process model (model for system development).', '', 'The status of the work and the results are discussed with the supervisors at regular intervals (approx. every 2 weeks).', '', 'When carrying out the work and preparing the draft, the guidelines of the IAS are observed.', '', 'Regular meetings at the university at least once a week to keep track of progress. Usually on Wednesday at 13:15.', '', 'Submissions and projects are discussed one week before the deadline and revised if necessary.', 'additions', 'No.']\n"
     ]
    }
   ],
   "source": [
    "print(fullText)"
   ]
  },
  {
   "cell_type": "code",
   "execution_count": null,
   "id": "bd5343e0",
   "metadata": {},
   "outputs": [],
   "source": []
  }
 ],
 "metadata": {
  "kernelspec": {
   "display_name": "Python 3 (ipykernel)",
   "language": "python",
   "name": "python3"
  },
  "language_info": {
   "codemirror_mode": {
    "name": "ipython",
    "version": 3
   },
   "file_extension": ".py",
   "mimetype": "text/x-python",
   "name": "python",
   "nbconvert_exporter": "python",
   "pygments_lexer": "ipython3",
   "version": "3.9.13"
  }
 },
 "nbformat": 4,
 "nbformat_minor": 5
}
